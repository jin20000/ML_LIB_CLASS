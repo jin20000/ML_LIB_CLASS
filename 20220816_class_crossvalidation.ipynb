{
 "cells": [
  {
   "cell_type": "code",
   "execution_count": 1,
   "metadata": {},
   "outputs": [],
   "source": [
    "from sklearn.model_selection import LeaveOneOut\n",
    "from sklearn.tree import DecisionTreeClassifier\n",
    "from sklearn.datasets import load_iris"
   ]
  },
  {
   "cell_type": "code",
   "execution_count": 2,
   "metadata": {},
   "outputs": [],
   "source": [
    "from sklearn.model_selection import cross_val_score"
   ]
  },
  {
   "cell_type": "code",
   "execution_count": 3,
   "metadata": {},
   "outputs": [
    {
     "name": "stdout",
     "output_type": "stream",
     "text": [
      "교차 검증 분할 횟수 :  150\n",
      "평균 정확도 : 0.95\n"
     ]
    }
   ],
   "source": [
    "loo = LeaveOneOut()\n",
    "iris = load_iris()\n",
    "tree = DecisionTreeClassifier()\n",
    "scores = cross_val_score(tree, iris.data, iris.target, cv=loo)\n",
    "\n",
    "print(\"교차 검증 분할 횟수 : \", len(scores))\n",
    "print(\"평균 정확도 : {:.2f}\".format(scores.mean()))"
   ]
  },
  {
   "cell_type": "code",
   "execution_count": 4,
   "metadata": {},
   "outputs": [],
   "source": [
    "from sklearn.model_selection import ShuffleSplit"
   ]
  },
  {
   "cell_type": "code",
   "execution_count": 5,
   "metadata": {},
   "outputs": [
    {
     "name": "stdout",
     "output_type": "stream",
     "text": [
      "교차 검증 점수 : \n",
      "[0.6 1.  0.6 0.8 0.8 0.4 1.  1.  0.8 0.6]\n",
      "평균 : 0.76\n"
     ]
    }
   ],
   "source": [
    "shuffle_split = ShuffleSplit(train_size=10, test_size=5,  n_splits=10)\n",
    "\n",
    "scores = cross_val_score(tree, iris.data, iris.target, \n",
    "                         cv=shuffle_split)\n",
    "\n",
    "print(\"교차 검증 점수 : \\n{}\".format(scores))\n",
    "avg = scores.mean()\n",
    "print(\"평균 : {:.2f}\".format( avg )  )"
   ]
  },
  {
   "cell_type": "code",
   "execution_count": 6,
   "metadata": {},
   "outputs": [
    {
     "name": "stdout",
     "output_type": "stream",
     "text": [
      "교차 검증 점수 : \n",
      "[0.88 0.68 0.98 0.6  0.84 0.7  0.94 0.92 0.8  0.86]\n",
      "평균 : 0.82\n"
     ]
    }
   ],
   "source": [
    "shuffle_split = ShuffleSplit(train_size=10, test_size=50,  n_splits=10)\n",
    "\n",
    "scores = cross_val_score(tree, iris.data, iris.target, \n",
    "                         cv=shuffle_split)\n",
    "\n",
    "print(\"교차 검증 점수 : \\n{}\".format(scores))\n",
    "avg = scores.mean()\n",
    "print(\"평균 : {:.2f}\".format( avg )  )"
   ]
  },
  {
   "cell_type": "code",
   "execution_count": null,
   "metadata": {},
   "outputs": [],
   "source": []
  }
 ],
 "metadata": {
  "kernelspec": {
   "display_name": "Python 3",
   "language": "python",
   "name": "python3"
  },
  "language_info": {
   "codemirror_mode": {
    "name": "ipython",
    "version": 3
   },
   "file_extension": ".py",
   "mimetype": "text/x-python",
   "name": "python",
   "nbconvert_exporter": "python",
   "pygments_lexer": "ipython3",
   "version": "3.8.5"
  }
 },
 "nbformat": 4,
 "nbformat_minor": 4
}
